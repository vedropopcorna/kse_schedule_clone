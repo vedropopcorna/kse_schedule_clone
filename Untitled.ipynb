{
 "cells": [
  {
   "cell_type": "code",
   "execution_count": 3,
   "id": "6cab0f47",
   "metadata": {
    "ExecuteTime": {
     "end_time": "2023-12-04T21:03:18.058619Z",
     "start_time": "2023-12-04T21:03:17.940453Z"
    }
   },
   "outputs": [
    {
     "data": {
      "text/plain": [
       "({1: 1, -1/2 - sqrt(3)*I/2: 1, -1/2 + sqrt(3)*I/2: 1},\n",
       " [(1, 1, [Matrix([\n",
       "    [1],\n",
       "    [1],\n",
       "    [1]])]),\n",
       "  (-1/2 - sqrt(3)*I/2,\n",
       "   1,\n",
       "   [Matrix([\n",
       "    [-1/2 + sqrt(3)*I/2],\n",
       "    [-1/2 - sqrt(3)*I/2],\n",
       "    [                 1]])]),\n",
       "  (-1/2 + sqrt(3)*I/2,\n",
       "   1,\n",
       "   [Matrix([\n",
       "    [-1/2 - sqrt(3)*I/2],\n",
       "    [-1/2 + sqrt(3)*I/2],\n",
       "    [                 1]])])])"
      ]
     },
     "execution_count": 3,
     "metadata": {},
     "output_type": "execute_result"
    }
   ],
   "source": [
    "from sympy import Matrix\n",
    "A = Matrix([[0, 0, 1],\n",
    "            [1, 0, 0],\n",
    "            [0, 1, 0]])\n",
    "\n",
    "# Calculate eigenvalues and eigenvectors for A\n",
    "eigenvals = A.eigenvals()\n",
    "eigenvects = A.eigenvects()\n",
    "\n"
   ]
  },
  {
   "cell_type": "code",
   "execution_count": 4,
   "id": "39f77ba8",
   "metadata": {
    "ExecuteTime": {
     "end_time": "2023-12-04T21:04:01.218008Z",
     "start_time": "2023-12-04T21:04:01.208752Z"
    }
   },
   "outputs": [
    {
     "data": {
      "text/plain": [
       "{1: 1, -1/2 - sqrt(3)*I/2: 1, -1/2 + sqrt(3)*I/2: 1}"
      ]
     },
     "execution_count": 4,
     "metadata": {},
     "output_type": "execute_result"
    }
   ],
   "source": [
    "eigenvals"
   ]
  }
 ],
 "metadata": {
  "kernelspec": {
   "display_name": "Python 3 (ipykernel)",
   "language": "python",
   "name": "python3"
  },
  "language_info": {
   "codemirror_mode": {
    "name": "ipython",
    "version": 3
   },
   "file_extension": ".py",
   "mimetype": "text/x-python",
   "name": "python",
   "nbconvert_exporter": "python",
   "pygments_lexer": "ipython3",
   "version": "3.11.4"
  },
  "toc": {
   "base_numbering": 1,
   "nav_menu": {},
   "number_sections": true,
   "sideBar": true,
   "skip_h1_title": false,
   "title_cell": "Table of Contents",
   "title_sidebar": "Contents",
   "toc_cell": false,
   "toc_position": {},
   "toc_section_display": true,
   "toc_window_display": false
  }
 },
 "nbformat": 4,
 "nbformat_minor": 5
}
